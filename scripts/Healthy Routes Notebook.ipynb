{
 "cells": [
  {
   "cell_type": "code",
   "execution_count": 15,
   "metadata": {
    "collapsed": true
   },
   "outputs": [],
   "source": [
    "import gdal, osr\n",
    "from skimage.graph import route_through_array\n",
    "import numpy as np\n",
    "import pandas as pd\n",
    "import matplotlib.pyplot as plt\n",
    "import seaborn as sns\n",
    "import rasterio"
   ]
  },
  {
   "cell_type": "code",
   "execution_count": 2,
   "metadata": {
    "collapsed": true
   },
   "outputs": [],
   "source": [
    "def raster2array(rasterfn):\n",
    "    raster = gdal.Open(rasterfn)\n",
    "    band = raster.GetRasterBand(1)\n",
    "    array = band.ReadAsArray()\n",
    "    return array"
   ]
  },
  {
   "cell_type": "code",
   "execution_count": 3,
   "metadata": {
    "collapsed": true
   },
   "outputs": [],
   "source": [
    "def coord2pixelOffset(rasterfn, x, y):\n",
    "    raster = gdal.Open(rasterfn)\n",
    "    geotransform = raster.GetGeoTransform()\n",
    "    originX = geotransform[0]\n",
    "    originY = geotransform[3]\n",
    "    pixelWidth = geotransform[1]\n",
    "    pixelHeight = geotransform[5]\n",
    "    xOffset = int((x - originX)/ pixelWidth)\n",
    "    yOffset = int((y - originY)/pixelHeight)\n",
    "    return xOffset,yOffset"
   ]
  },
  {
   "cell_type": "code",
   "execution_count": 4,
   "metadata": {
    "collapsed": true
   },
   "outputs": [],
   "source": [
    "# Path\n",
    "def createPath(CostSurfacefn,costSurfaceArray,startCoord,stopCoord):   \n",
    "\n",
    "    # coordinates to array index\n",
    "    startCoordX = startCoord[0]\n",
    "    startCoordY = startCoord[1]\n",
    "    startIndexX,startIndexY = coord2pixelOffset(CostSurfacefn,startCoordX,startCoordY)\n",
    "\n",
    "    stopCoordX = stopCoord[0]\n",
    "    stopCoordY = stopCoord[1]\n",
    "    stopIndexX,stopIndexY = coord2pixelOffset(CostSurfacefn,stopCoordX,stopCoordY)\n",
    "\n",
    "    # create path\n",
    "    indices, weight = route_through_array(costSurfaceArray, (startIndexY,startIndexX), (stopIndexY,stopIndexX),geometric=True,fully_connected=True)\n",
    "    indices = np.array(indices).T\n",
    "    path = np.zeros_like(costSurfaceArray)\n",
    "    path[indices[0], indices[1]] = 1\n",
    "    return path\n",
    "        \n"
   ]
  },
  {
   "cell_type": "code",
   "execution_count": 5,
   "metadata": {
    "collapsed": true
   },
   "outputs": [],
   "source": [
    "#Least Cost Tool\n",
    "def array2raster(newRasterfn,rasterfn,array):\n",
    "    raster = gdal.Open(rasterfn)\n",
    "    geotransform = raster.GetGeoTransform()\n",
    "    originX = geotransform[0]\n",
    "    originY = geotransform[3] \n",
    "    pixelWidth = geotransform[1] \n",
    "    pixelHeight = geotransform[5]\n",
    "    cols = array.shape[1]\n",
    "    rows = array.shape[0]\n",
    "\n",
    "    driver = gdal.GetDriverByName('GTiff')\n",
    "    outRaster = driver.Create(newRasterfn, cols, rows, gdal.GDT_Byte)\n",
    "    outRaster.SetGeoTransform((originX, pixelWidth, 0, originY, 0, pixelHeight))\n",
    "    outband = outRaster.GetRasterBand(1)\n",
    "    outband.WriteArray(array)\n",
    "    outRasterSRS = osr.SpatialReference()\n",
    "    outRasterSRS.ImportFromWkt(raster.GetProjectionRef())\n",
    "    outRaster.SetProjection(outRasterSRS.ExportToWkt())\n",
    "    outband.FlushCache() "
   ]
  },
  {
   "cell_type": "code",
   "execution_count": 6,
   "metadata": {
    "collapsed": true
   },
   "outputs": [],
   "source": [
    "\n",
    "def main(CostSurfacefn,outputPathfn,startCoord,stopCoord):\n",
    "\n",
    "    costSurfaceArray = raster2array(CostSurfacefn) # creates array from cost surface raster\n",
    "\n",
    "    pathArray = createPath(CostSurfacefn,costSurfaceArray,startCoord,stopCoord) # creates path array\n",
    " \n",
    "    array2raster(outputPathfn,CostSurfacefn,pathArray) # converts path array to raster"
   ]
  },
  {
   "cell_type": "code",
   "execution_count": 2,
   "metadata": {
    "collapsed": true
   },
   "outputs": [],
   "source": [
    "CostSurface  = 'E:/2018/CASA/Term 2/4-Spatial Data Capture/0-coursework/pyhtonCoding/1-NewMaster/THamStAll4Friction1.tif'"
   ]
  },
  {
   "cell_type": "code",
   "execution_count": 8,
   "metadata": {
    "collapsed": true
   },
   "outputs": [],
   "source": [
    "#Route Creation\n",
    "if __name__ == \"__main__\":\n",
    "    CostSurfacefn = CostSurface\n",
    "    startCoord = (536552.739718,184199.345531)\n",
    "    stopCoord = (533542.17254,180680.0646)\n",
    "    outputPathfn = 'E:/2018/CASA/Term 2/4-Spatial Data Capture/0-coursework/pyhtonCoding/1-NewMaster/test1.tif'\n",
    "    main(CostSurfacefn,outputPathfn,startCoord,stopCoord)"
   ]
  },
  {
   "cell_type": "code",
   "execution_count": 16,
   "metadata": {},
   "outputs": [
    {
     "data": {
      "text/html": [
       "<div>\n",
       "<style>\n",
       "    .dataframe thead tr:only-child th {\n",
       "        text-align: right;\n",
       "    }\n",
       "\n",
       "    .dataframe thead th {\n",
       "        text-align: left;\n",
       "    }\n",
       "\n",
       "    .dataframe tbody tr th {\n",
       "        vertical-align: top;\n",
       "    }\n",
       "</style>\n",
       "<table border=\"1\" class=\"dataframe\">\n",
       "  <thead>\n",
       "    <tr style=\"text-align: right;\">\n",
       "      <th></th>\n",
       "      <th>FID</th>\n",
       "      <th>X</th>\n",
       "      <th>Y</th>\n",
       "    </tr>\n",
       "  </thead>\n",
       "  <tbody>\n",
       "    <tr>\n",
       "      <th>0</th>\n",
       "      <td>0</td>\n",
       "      <td>536552.739718</td>\n",
       "      <td>184199.345531</td>\n",
       "    </tr>\n",
       "    <tr>\n",
       "      <th>1</th>\n",
       "      <td>1</td>\n",
       "      <td>535730.226088</td>\n",
       "      <td>182879.641548</td>\n",
       "    </tr>\n",
       "    <tr>\n",
       "      <th>2</th>\n",
       "      <td>2</td>\n",
       "      <td>534644.392062</td>\n",
       "      <td>180140.151694</td>\n",
       "    </tr>\n",
       "    <tr>\n",
       "      <th>3</th>\n",
       "      <td>3</td>\n",
       "      <td>537923.475729</td>\n",
       "      <td>182736.088233</td>\n",
       "    </tr>\n",
       "    <tr>\n",
       "      <th>4</th>\n",
       "      <td>4</td>\n",
       "      <td>537011.546346</td>\n",
       "      <td>179307.633403</td>\n",
       "    </tr>\n",
       "  </tbody>\n",
       "</table>\n",
       "</div>"
      ],
      "text/plain": [
       "   FID              X              Y\n",
       "0    0  536552.739718  184199.345531\n",
       "1    1  535730.226088  182879.641548\n",
       "2    2  534644.392062  180140.151694\n",
       "3    3  537923.475729  182736.088233\n",
       "4    4  537011.546346  179307.633403"
      ]
     },
     "execution_count": 16,
     "metadata": {},
     "output_type": "execute_result"
    }
   ],
   "source": [
    "StartpointsEndpoints = pd.read_csv('E:/2018/CASA/Term 2/4-Spatial Data Capture/0-coursework/pyhtonCoding/1-NewMaster/points/OriginDestiPoints.csv')\n",
    "StartpointsEndpoints.head()\n",
    "    "
   ]
  },
  {
   "cell_type": "code",
   "execution_count": 17,
   "metadata": {
    "collapsed": true
   },
   "outputs": [],
   "source": [
    "for i in range(len(StartpointsEndpoints)):\n",
    "    if __name__ == \"__main__\":\n",
    "        CostSurfacefn = CostSurface\n",
    "        startCoord = (StartpointsEndpoints.loc[i,'X'],StartpointsEndpoints.loc[i,'Y'])\n",
    "        for j in range(len(StartpointsEndpoints)):\n",
    "            stopCoord = (StartpointsEndpoints.loc[j,'X'],StartpointsEndpoints.loc[j,'Y'])\n",
    "            outputPathfn = 'E:/2018/CASA/Term 2/4-Spatial Data Capture/0-coursework/pyhtonCoding/1-NewMaster/output/path'+ str(i)+str(j)+'.tif'\n",
    "            main(CostSurfacefn,outputPathfn,startCoord,stopCoord)\n"
   ]
  },
  {
   "cell_type": "code",
   "execution_count": 84,
   "metadata": {},
   "outputs": [
    {
     "name": "stdout",
     "output_type": "stream",
     "text": [
      "file_00.dat\n",
      "file_01.dat\n",
      "file_02.dat\n",
      "file_10.dat\n",
      "file_11.dat\n",
      "file_12.dat\n",
      "file_20.dat\n",
      "file_21.dat\n",
      "file_22.dat\n"
     ]
    }
   ],
   "source": [
    "for i in range(3):\n",
    "    for j in range(3):\n",
    "        print(\"file_\" + str(i)+str(j) + \".dat\")"
   ]
  },
  {
   "cell_type": "code",
   "execution_count": 29,
   "metadata": {},
   "outputs": [
    {
     "name": "stderr",
     "output_type": "stream",
     "text": [
      "Traceback (most recent call last):\n",
      "  File \"C:\\Users\\Blusubmarine\\Anaconda3\\Scripts\\gdal_calc.py\", line 4, in <module>\n",
      "    __import__('pkg_resources').run_script('GDAL==2.2.4', 'gdal_calc.py')\n",
      "  File \"C:\\Python27\\ArcGIS10.5\\lib\\site-packages\\pkg_resources\\__init__.py\", line 2927, in <module>\n",
      "    @_call_aside\n",
      "  File \"C:\\Python27\\ArcGIS10.5\\lib\\site-packages\\pkg_resources\\__init__.py\", line 2913, in _call_aside\n",
      "    f(*args, **kwargs)\n",
      "  File \"C:\\Python27\\ArcGIS10.5\\lib\\site-packages\\pkg_resources\\__init__.py\", line 2940, in _initialize_master_working_set\n",
      "    working_set = WorkingSet._build_master()\n",
      "  File \"C:\\Python27\\ArcGIS10.5\\lib\\site-packages\\pkg_resources\\__init__.py\", line 635, in _build_master\n",
      "    ws.require(__requires__)\n",
      "  File \"C:\\Python27\\ArcGIS10.5\\lib\\site-packages\\pkg_resources\\__init__.py\", line 943, in require\n",
      "    needed = self.resolve(parse_requirements(requirements))\n",
      "  File \"C:\\Python27\\ArcGIS10.5\\lib\\site-packages\\pkg_resources\\__init__.py\", line 829, in resolve\n",
      "    raise DistributionNotFound(req, requirers)\n",
      "pkg_resources.DistributionNotFound: The 'GDAL==2.2.4' distribution was not found and is required by the application\n"
     ]
    }
   ],
   "source": [
    "!gdal_calc.py -A CostSurface -B CostSurface --outfile='E:/2018/CASA/Term 2/4-Spatial Data Capture/0-coursework/pyhtonCoding/1-NewMaster/product.tif' --calc=A+B "
   ]
  },
  {
   "cell_type": "code",
   "execution_count": 2,
   "metadata": {
    "collapsed": true
   },
   "outputs": [],
   "source": [
    "import pandas as pd\n",
    "NO2Histogram = pd.read_csv('E:/2018/CASA/Term 2/4-Spatial Data Capture/0-coursework/data/Histogram Table/HistogramNO2.csv')"
   ]
  },
  {
   "cell_type": "code",
   "execution_count": 16,
   "metadata": {},
   "outputs": [
    {
     "data": {
      "text/plain": [
       "<matplotlib.axes._subplots.AxesSubplot at 0xa689828>"
      ]
     },
     "execution_count": 16,
     "metadata": {},
     "output_type": "execute_result"
    }
   ],
   "source": [
    "#Test visualization of the NO2 Pollutants for routes using Histogram\n",
    "NO2Histogram.head()\n",
    "NO2Histogram = NO2Histogram.rename(columns={1:48})\n",
    "NO2HistogramTest = pd.read_csv('E:/2018/CASA/Term 2/4-Spatial Data Capture/0-coursework/data/Histogram Table/HistogramNO2_5.csv')\n",
    "NO2HistogramTest.head()\n",
    "plt.hist(NO2HistogramTest['NO2'])\n",
    "plt.hist(NO2HistogramTest['NO2'], color = 'blue', edgecolor = 'black', bins = int(160/5))\n",
    "\n",
    "sns.distplot(NO2HistogramTest['NO2'], hist=True, kde=False, bins=int(92/4), color = 'blue',hist_kws={'edgecolor':'black'})"
   ]
  },
  {
   "cell_type": "code",
   "execution_count": 68,
   "metadata": {},
   "outputs": [
    {
     "name": "stderr",
     "output_type": "stream",
     "text": [
      "C:\\Users\\Blusubmarine\\Anaconda3\\lib\\site-packages\\rasterio\\__init__.py:160: FutureWarning: GDAL-style transforms are deprecated and will not be supported in Rasterio 1.0.\n",
      "  transform = guard_transform(transform)\n"
     ]
    }
   ],
   "source": [
    "#Data Normalization and Final Cost Surface Preparation\n",
    "TowerNO2 = ('E:/2018/CASA/Term 2/4-Spatial Data Capture/0-coursework/pyhtonCoding/rasterCalculation/pollutants/TowerNO2Rectangle.tif')\n",
    "TowerNOx = ('E:/2018/CASA/Term 2/4-Spatial Data Capture/0-coursework/pyhtonCoding/rasterCalculation/pollutants/TowerNOx.tif')\n",
    "TowerPM10 = ('E:/2018/CASA/Term 2/4-Spatial Data Capture/0-coursework/pyhtonCoding/rasterCalculation/pollutants/TowerPM10.tif')\n",
    "TowerPM25 = ('E:/2018/CASA/Term 2/4-Spatial Data Capture/0-coursework/pyhtonCoding/rasterCalculation/pollutants/TowerPM25.tif')\n",
    "\n",
    "\n",
    "with rasterio.open(TowerNO2) as TowerNO2:\n",
    "    NO2 = TowerNO2.read()\n",
    "    \n",
    "with rasterio.open(TowerNOx) as TowerNOx:\n",
    "    NOx = TowerNOx.read(1)\n",
    "    \n",
    "with rasterio.open(TowerPM10) as TowerPM10:\n",
    "    PM10 = TowerPM10.read()\n",
    "    \n",
    "with rasterio.open(TowerPM25) as TowerPM25:\n",
    "    PM25 = TowerPM25.read()\n",
    "  \n",
    "    \n",
    "\n",
    "NO2Normal = (NO2 - NO2.min()) /(NO2.max() - NO2.min())\n",
    "\n",
    "NO2Normalized = 'E:/2018/CASA/Term 2/4-Spatial Data Capture/0-coursework/pyhtonCoding/rasterCalculation/pollutants/NO2Normalized.tif'\n",
    "\n",
    "with rasterio.open(NO2Normalized, 'w',**TowerNO2.meta) as output:\n",
    "    output.write(NO2Normal)\n",
    "\n",
    "Final = NO2Normal + NOxNormal + PM25Normal + PM10Normal   \n",
    "    \n"
   ]
  },
  {
   "cell_type": "code",
   "execution_count": null,
   "metadata": {
    "collapsed": true
   },
   "outputs": [],
   "source": [
    "#Analysing Maximum and Minimum Values of Pollutants\n",
    "with rasterio.open('R.byte.tif') as src:\n",
    "arr = src.read()\n",
    "arr = (arr * 9) / 5 + 32\n",
    "\n",
    "\n",
    "\n",
    " myTestlayer = myTestlayer + 1000\n",
    "    xMax = myTestlayer.max()\n",
    "    xMin = myTestlayer.min()\n",
    "\n",
    "xMax\n",
    "xMin\n",
    "    \n",
    "\n",
    "with rasterio.open('output.tif', 'w',**src.meta) as dst:\n",
    "    dst.write_band(1, arr[0])   \n",
    "    \n",
    "    \n",
    "NO2Normalized = 'E:/2018/CASA/Term 2/4-Spatial Data Capture/0-coursework/pyhtonCoding/rasterCalculation/pollutants/NO2Normalized.tif'\n",
    "\n",
    "with rasterio.open(NO2Normalized, 'w',**TowerNO2.meta) as output:\n",
    "    output.write(NO2Normal)\n",
    "    \n",
    "NO2Normal = (NO2 - NO2.min()) /(NO2.max() - NO2.min())"
   ]
  }
 ],
 "metadata": {
  "kernelspec": {
   "display_name": "Python 2",
   "language": "python",
   "name": "python2"
  },
  "language_info": {
   "codemirror_mode": {
    "name": "ipython",
    "version": 2
   },
   "file_extension": ".py",
   "mimetype": "text/x-python",
   "name": "python",
   "nbconvert_exporter": "python",
   "pygments_lexer": "ipython2",
   "version": "2.7.13"
  }
 },
 "nbformat": 4,
 "nbformat_minor": 2
}
